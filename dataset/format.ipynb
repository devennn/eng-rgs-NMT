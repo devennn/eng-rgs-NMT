{
 "cells": [
  {
   "cell_type": "code",
   "execution_count": 4,
   "metadata": {},
   "outputs": [],
   "source": [
    "import pandas as pd\n",
    "from pathlib import Path\n",
    "import os"
   ]
  },
  {
   "cell_type": "code",
   "execution_count": 5,
   "metadata": {},
   "outputs": [],
   "source": [
    "malay_data = [\n",
    "    'english-malay1.json', 'english-malay2.json', 'english-malay3.json', 'english-malay4.json', 'english-malay5.json',\n",
    "    'english-malay6.json', 'english-malay7.json', 'english-malay8.json', 'english-malay9.json', 'english-malay10.json'\n",
    "]"
   ]
  },
  {
   "cell_type": "code",
   "execution_count": 6,
   "metadata": {},
   "outputs": [],
   "source": [
    "# df = pd.read_json('all_sentences.json')\n",
    "# print(len(df))"
   ]
  },
  {
   "cell_type": "code",
   "execution_count": 13,
   "metadata": {},
   "outputs": [],
   "source": [
    "full_data = []\n",
    "path = Path('.').parent.absolute()\n",
    "for file in malay_data:\n",
    "    data_path = os.path.join(path, 'english-malay', file)\n",
    "    df = pd.read_json(data_path)\n",
    "    [full_data.append(df.iloc[i]) for i in range(len(df))]"
   ]
  },
  {
   "cell_type": "code",
   "execution_count": 14,
   "metadata": {},
   "outputs": [
    {
     "data": {
      "text/html": [
       "<div>\n",
       "<style scoped>\n",
       "    .dataframe tbody tr th:only-of-type {\n",
       "        vertical-align: middle;\n",
       "    }\n",
       "\n",
       "    .dataframe tbody tr th {\n",
       "        vertical-align: top;\n",
       "    }\n",
       "\n",
       "    .dataframe thead th {\n",
       "        text-align: right;\n",
       "    }\n",
       "</style>\n",
       "<table border=\"1\" class=\"dataframe\">\n",
       "  <thead>\n",
       "    <tr style=\"text-align: right;\">\n",
       "      <th></th>\n",
       "      <th>0</th>\n",
       "      <th>1</th>\n",
       "    </tr>\n",
       "  </thead>\n",
       "  <tbody>\n",
       "    <tr>\n",
       "      <th>0</th>\n",
       "      <td>We are beginning our work as MEPs on the new p...</td>\n",
       "      <td>kami memulakan kerja kami sebagai perundingan ...</td>\n",
       "    </tr>\n",
       "    <tr>\n",
       "      <th>1</th>\n",
       "      <td>We also understand that it is one of the large...</td>\n",
       "      <td>kami juga faham bahawa ia adalah salah satu pe...</td>\n",
       "    </tr>\n",
       "    <tr>\n",
       "      <th>2</th>\n",
       "      <td>I am replacing Mr Titley as he is stuck in Lon...</td>\n",
       "      <td>saya menggantikan mr titley kerana dia terjeba...</td>\n",
       "    </tr>\n",
       "    <tr>\n",
       "      <th>3</th>\n",
       "      <td>on behalf of the ALDE Group. - Mr President, i...</td>\n",
       "      <td>bagi pihak kumpulan alde. - mr presiden, dalam...</td>\n",
       "    </tr>\n",
       "    <tr>\n",
       "      <th>4</th>\n",
       "      <td>Last year's floods affected 48 000 UK homes an...</td>\n",
       "      <td>banjir tahun lepas menjejaskan 48 000 rumah uk...</td>\n",
       "    </tr>\n",
       "    <tr>\n",
       "      <th>...</th>\n",
       "      <td>...</td>\n",
       "      <td>...</td>\n",
       "    </tr>\n",
       "    <tr>\n",
       "      <th>49961</th>\n",
       "      <td>We cannot do everything in this Directive, but...</td>\n",
       "      <td>kita tidak boleh melakukan segala-galanya dala...</td>\n",
       "    </tr>\n",
       "    <tr>\n",
       "      <th>49962</th>\n",
       "      <td>In conclusion, the Directive specifies the ene...</td>\n",
       "      <td>sebagai kesimpulan, arahan menentukan kriteria...</td>\n",
       "    </tr>\n",
       "    <tr>\n",
       "      <th>49963</th>\n",
       "      <td>However, it will be soon, and we can celebrate...</td>\n",
       "      <td>Walau bagaimanapun, ia akan berlaku tidak lama...</td>\n",
       "    </tr>\n",
       "    <tr>\n",
       "      <th>49964</th>\n",
       "      <td>We secured Council support for the amendment p...</td>\n",
       "      <td>kami mendapat sokongan majlis untuk pindaan ya...</td>\n",
       "    </tr>\n",
       "    <tr>\n",
       "      <th>49965</th>\n",
       "      <td>Fifthly, we have also ensured that priority wi...</td>\n",
       "      <td>kelima, kita juga memastikan bahawa keutamaan ...</td>\n",
       "    </tr>\n",
       "  </tbody>\n",
       "</table>\n",
       "<p>49966 rows × 2 columns</p>\n",
       "</div>"
      ],
      "text/plain": [
       "                                                       0  \\\n",
       "0      We are beginning our work as MEPs on the new p...   \n",
       "1      We also understand that it is one of the large...   \n",
       "2      I am replacing Mr Titley as he is stuck in Lon...   \n",
       "3      on behalf of the ALDE Group. - Mr President, i...   \n",
       "4      Last year's floods affected 48 000 UK homes an...   \n",
       "...                                                  ...   \n",
       "49961  We cannot do everything in this Directive, but...   \n",
       "49962  In conclusion, the Directive specifies the ene...   \n",
       "49963  However, it will be soon, and we can celebrate...   \n",
       "49964  We secured Council support for the amendment p...   \n",
       "49965  Fifthly, we have also ensured that priority wi...   \n",
       "\n",
       "                                                       1  \n",
       "0      kami memulakan kerja kami sebagai perundingan ...  \n",
       "1      kami juga faham bahawa ia adalah salah satu pe...  \n",
       "2      saya menggantikan mr titley kerana dia terjeba...  \n",
       "3      bagi pihak kumpulan alde. - mr presiden, dalam...  \n",
       "4      banjir tahun lepas menjejaskan 48 000 rumah uk...  \n",
       "...                                                  ...  \n",
       "49961  kita tidak boleh melakukan segala-galanya dala...  \n",
       "49962  sebagai kesimpulan, arahan menentukan kriteria...  \n",
       "49963  Walau bagaimanapun, ia akan berlaku tidak lama...  \n",
       "49964  kami mendapat sokongan majlis untuk pindaan ya...  \n",
       "49965  kelima, kita juga memastikan bahawa keutamaan ...  \n",
       "\n",
       "[49966 rows x 2 columns]"
      ]
     },
     "execution_count": 14,
     "metadata": {},
     "output_type": "execute_result"
    }
   ],
   "source": [
    "df"
   ]
  },
  {
   "cell_type": "code",
   "execution_count": 16,
   "metadata": {},
   "outputs": [],
   "source": [
    "with open('eng_malay.txt', 'w+', encoding='utf-8') as f:\n",
    "    for i in range(len(df)):\n",
    "        line = \"{}\\t{}\\n\".format(df.iloc[i][0], df.iloc[i][1])\n",
    "        f.write(line)"
   ]
  },
  {
   "cell_type": "code",
   "execution_count": null,
   "metadata": {},
   "outputs": [],
   "source": []
  }
 ],
 "metadata": {
  "kernelspec": {
   "display_name": "Python 3",
   "language": "python",
   "name": "python3"
  },
  "language_info": {
   "codemirror_mode": {
    "name": "ipython",
    "version": 3
   },
   "file_extension": ".py",
   "mimetype": "text/x-python",
   "name": "python",
   "nbconvert_exporter": "python",
   "pygments_lexer": "ipython3",
   "version": "3.7.5"
  }
 },
 "nbformat": 4,
 "nbformat_minor": 2
}
